{
  "nbformat": 4,
  "nbformat_minor": 0,
  "metadata": {
    "colab": {
      "name": "P-Day-2-session-2.ipynb",
      "provenance": [],
      "authorship_tag": "ABX9TyMrt6P4j4FXM38tngsPb0o/",
      "include_colab_link": true
    },
    "kernelspec": {
      "name": "python3",
      "display_name": "Python 3"
    }
  },
  "cells": [
    {
      "cell_type": "markdown",
      "metadata": {
        "id": "view-in-github",
        "colab_type": "text"
      },
      "source": [
        "<a href=\"https://colab.research.google.com/github/BINDU-N-R/bindunr-python/blob/master/P_Day_2_session_2.ipynb\" target=\"_parent\"><img src=\"https://colab.research.google.com/assets/colab-badge.svg\" alt=\"Open In Colab\"/></a>"
      ]
    },
    {
      "cell_type": "markdown",
      "metadata": {
        "id": "hpClvXuHO6ti"
      },
      "source": [
        "#1. Python Program to Create a List of Tuples with the First Element as the Number and Second Element as the Square of the Number"
      ]
    },
    {
      "cell_type": "code",
      "metadata": {
        "id": "rxuQ5MSTPGPo",
        "outputId": "5cb58065-3a5d-4878-f67e-e0758812d0ab",
        "colab": {
          "base_uri": "https://localhost:8080/",
          "height": 34
        }
      },
      "source": [
        "L = [1, 2, 5, 6] \n",
        "T = tuple([(i, pow(i, 2)) for i in L]) \n",
        "print(T)"
      ],
      "execution_count": null,
      "outputs": [
        {
          "output_type": "stream",
          "text": [
            "((1, 1), (2, 4), (5, 25), (6, 36))\n"
          ],
          "name": "stdout"
        }
      ]
    },
    {
      "cell_type": "markdown",
      "metadata": {
        "id": "I2RZUmh3TYCV"
      },
      "source": [
        "#2. Write python program to have a list of words to sort them from shortest to longest using list of tuples"
      ]
    },
    {
      "cell_type": "code",
      "metadata": {
        "id": "KSntsmDOTf6h",
        "outputId": "197bf2f5-1424-4e85-8fd4-39ad0d891dfe",
        "colab": {
          "base_uri": "https://localhost:8080/",
          "height": 34
        }
      },
      "source": [
        "t = \"It's Corona time\"\n",
        "w = t.split()\n",
        "p = list()\n",
        "for i in w:\n",
        "  p.append((len(i), i))\n",
        "p.sort(reverse=False)\n",
        "result = list()\n",
        "for length, i in p:\n",
        "  result.append(i)\n",
        "print(result)"
      ],
      "execution_count": null,
      "outputs": [
        {
          "output_type": "stream",
          "text": [
            "[\"It's\", 'time', 'Corona']\n"
          ],
          "name": "stdout"
        }
      ]
    },
    {
      "cell_type": "markdown",
      "metadata": {
        "id": "EMHm7vs2UWz2"
      },
      "source": [
        "#3.Write python program to get a list of tuples of Rollno,Name for 5 students through keyboard and sort them Rollno wise ascending order"
      ]
    },
    {
      "cell_type": "code",
      "metadata": {
        "id": "5ngvNi-WUbeA",
        "outputId": "efd9b86e-a76f-4c8b-d909-c84c6ce82076",
        "colab": {
          "base_uri": "https://localhost:8080/",
          "height": 185
        }
      },
      "source": [
        "L=[]\n",
        "n=int (input(\"Enter the range : \"))\n",
        "for x in range(n):\n",
        "    N=input(\"Enter a name: \")\n",
        "    R=int(input(\"Enter usn : \"))\n",
        "    L.append((N,R))\n",
        "print(L)\n",
        "import operator\n",
        "L.sort(key=operator.itemgetter(1))\n",
        "print(\"Sorted Tuple is : \")\n",
        "print(L)"
      ],
      "execution_count": null,
      "outputs": [
        {
          "output_type": "stream",
          "text": [
            "Enter the range : 3\n",
            "Enter a name: 'Ramya'\n",
            "Enter usn : 34\n",
            "Enter a name: 'Lepu'\n",
            "Enter usn : 56\n",
            "Enter a name: 'dhamini'\n",
            "Enter usn : 12\n",
            "[(\"'Ramya'\", 34), (\"'Lepu'\", 56), (\"'dhamini'\", 12)]\n",
            "Sorted Tuple is : \n",
            "[(\"'dhamini'\", 12), (\"'Ramya'\", 34), (\"'Lepu'\", 56)]\n"
          ],
          "name": "stdout"
        }
      ]
    },
    {
      "cell_type": "markdown",
      "metadata": {
        "id": "RId95goncQA9"
      },
      "source": [
        "#4.Write python program to get a list of tuples of Rollno,Name for 5 students through keyboard and sort them by Rollno wise descending order"
      ]
    },
    {
      "cell_type": "code",
      "metadata": {
        "id": "FGNxOltpcVNx",
        "outputId": "6716ac52-db25-4055-a731-97423af190a0",
        "colab": {
          "base_uri": "https://localhost:8080/",
          "height": 185
        }
      },
      "source": [
        "L=[]\n",
        "n=int (input(\"Enter the range : \"))\n",
        "for x in range(n):\n",
        "    N=input(\"Enter a name: \")\n",
        "    R=int(input(\"Enter usn : \"))\n",
        "    L.append((N,R))\n",
        "print(L)\n",
        "import operator\n",
        "L.sort(key=operator.itemgetter(1),reverse=True)\n",
        "print(\"Sorted Tuple is : \")\n",
        "print(L)"
      ],
      "execution_count": null,
      "outputs": [
        {
          "output_type": "stream",
          "text": [
            "Enter the range : 3\n",
            "Enter a name: sdsd\n",
            "Enter usn : 76\n",
            "Enter a name: jkd\n",
            "Enter usn : 79\n",
            "Enter a name: askl\n",
            "Enter usn : 89\n",
            "[('sdsd', 76), ('jkd', 79), ('askl', 89)]\n",
            "Sorted Tuple is : \n",
            "[('askl', 89), ('jkd', 79), ('sdsd', 76)]\n"
          ],
          "name": "stdout"
        }
      ]
    },
    {
      "cell_type": "markdown",
      "metadata": {
        "id": "T1ThixmBhjeK"
      },
      "source": [
        "#5.Write python program to get a list of tuples of Rollno,Name for 5 students through keyboard and sort them by Name wise ascending order"
      ]
    },
    {
      "cell_type": "code",
      "metadata": {
        "id": "5PvKNMVci1Uw",
        "outputId": "b296e4c4-e833-4238-bd99-29057d20061e",
        "colab": {
          "base_uri": "https://localhost:8080/",
          "height": 218
        }
      },
      "source": [
        "L=[]\n",
        "n=int (input(\"Enter the range : \"))\n",
        "for x in range(n):\n",
        "    N=input(\"Enter a name: \")\n",
        "    R=int(input(\"Enter usn : \"))\n",
        "    L.append((N,R))\n",
        "print(L)\n",
        "import operator\n",
        "L.sort(key=operator.itemgetter(0))\n",
        "print(\"Sorted Tuple is : \")\n",
        "print(L)"
      ],
      "execution_count": null,
      "outputs": [
        {
          "output_type": "stream",
          "text": [
            "Enter the range : 4\n",
            "Enter a name: zzzz\n",
            "Enter usn : 76\n",
            "Enter a name: fysc\n",
            "Enter usn : 79\n",
            "Enter a name: bbbb\n",
            "Enter usn : 23\n",
            "Enter a name: hss\n",
            "Enter usn : 34\n",
            "[('zzzz', 76), ('fysc', 79), ('bbbb', 23), ('hss', 34)]\n",
            "Sorted Tuple is : \n",
            "[('bbbb', 23), ('fysc', 79), ('hss', 34), ('zzzz', 76)]\n"
          ],
          "name": "stdout"
        }
      ]
    },
    {
      "cell_type": "markdown",
      "metadata": {
        "id": "avYTRcEAjpbr"
      },
      "source": [
        "#6.Write python program to get a list of tuples of Rollno,Name for 5 students through keyboard and sort them by Name wise descending order"
      ]
    },
    {
      "cell_type": "code",
      "metadata": {
        "id": "4w3A8cf7juq5",
        "outputId": "1717c79d-6b7e-48df-c237-eec1063bfb3a",
        "colab": {
          "base_uri": "https://localhost:8080/",
          "height": 218
        }
      },
      "source": [
        "L=[]\n",
        "n=int (input(\"Enter the range : \"))\n",
        "for x in range(n):\n",
        "    N=input(\"Enter a name: \")\n",
        "    R=int(input(\"Enter usn : \"))\n",
        "    L.append((N,R))\n",
        "print(L)\n",
        "import operator\n",
        "L.sort(key=operator.itemgetter(0),reverse=True)\n",
        "print(\"Sorted Tuple is : \")\n",
        "print(L)"
      ],
      "execution_count": null,
      "outputs": [
        {
          "output_type": "stream",
          "text": [
            "Enter the range : 4\n",
            "Enter a name: sdjk\n",
            "Enter usn : 76\n",
            "Enter a name: asmk\n",
            "Enter usn : 34\n",
            "Enter a name: wdd\n",
            "Enter usn : 70\n",
            "Enter a name: mks\n",
            "Enter usn : 39\n",
            "[('sdjk', 76), ('asmk', 34), ('wdd', 70), ('mks', 39)]\n",
            "Sorted Tuple is : \n",
            "[('wdd', 70), ('sdjk', 76), ('mks', 39), ('asmk', 34)]\n"
          ],
          "name": "stdout"
        }
      ]
    }
  ]
}