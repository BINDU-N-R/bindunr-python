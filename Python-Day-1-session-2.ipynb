{
  "nbformat": 4,
  "nbformat_minor": 0,
  "metadata": {
    "colab": {
      "name": "Untitled1.ipynb",
      "provenance": [],
      "authorship_tag": "ABX9TyOBQjy1Ahnw57+PVL7vFflX",
      "include_colab_link": true
    },
    "kernelspec": {
      "name": "python3",
      "display_name": "Python 3"
    }
  },
  "cells": [
    {
      "cell_type": "markdown",
      "metadata": {
        "id": "view-in-github",
        "colab_type": "text"
      },
      "source": [
        "<a href=\"https://colab.research.google.com/github/BINDU-N-R/bindunr-python/blob/master/Python-Day-1-session-2.ipynb\" target=\"_parent\"><img src=\"https://colab.research.google.com/assets/colab-badge.svg\" alt=\"Open In Colab\"/></a>"
      ]
    },
    {
      "cell_type": "markdown",
      "metadata": {
        "id": "MuZn2IrlVoJI"
      },
      "source": [
        "#1 Write a program to print the triangle"
      ]
    },
    {
      "cell_type": "code",
      "metadata": {
        "id": "ADiJOH6cVqIR",
        "outputId": "46f56aeb-c8fc-48ae-8025-123a5ff859fa",
        "colab": {
          "base_uri": "https://localhost:8080/",
          "height": 85
        }
      },
      "source": [
        "n=4\n",
        "for i in range(1,n+1):\n",
        "  for j in range(1,i+1):\n",
        "    print (i, end=\" \")\n",
        "    i=i+1\n",
        "  print(\"\")"
      ],
      "execution_count": null,
      "outputs": [
        {
          "output_type": "stream",
          "text": [
            "1 \n",
            "2 3 \n",
            "3 4 5 \n",
            "4 5 6 7 \n"
          ],
          "name": "stdout"
        }
      ]
    },
    {
      "cell_type": "markdown",
      "metadata": {
        "id": "W-y3KoVHZZh2"
      },
      "source": [
        "#2 Enter number 4"
      ]
    },
    {
      "cell_type": "code",
      "metadata": {
        "id": "FsqUzfDOZdKR",
        "outputId": "e1990c5d-c926-42ec-dc4c-86dfe6f50b24",
        "colab": {
          "base_uri": "https://localhost:8080/",
          "height": 85
        }
      },
      "source": [
        "n=4\n",
        "for i in range(1,n+1):\n",
        "  for j in range(1,i+1):\n",
        "    print ('*', end=\" \")\n",
        "  print(\"\")"
      ],
      "execution_count": null,
      "outputs": [
        {
          "output_type": "stream",
          "text": [
            "* \n",
            "* * \n",
            "* * * \n",
            "* * * * \n"
          ],
          "name": "stdout"
        }
      ]
    },
    {
      "cell_type": "markdown",
      "metadata": {
        "id": "CrfGif9Gddat"
      },
      "source": [
        "#3 Enter number 5"
      ]
    },
    {
      "cell_type": "code",
      "metadata": {
        "id": "IQBGmzMCdigq",
        "outputId": "61b9ddaf-de12-49af-acc0-ec5ccfbb4434",
        "colab": {
          "base_uri": "https://localhost:8080/",
          "height": 119
        }
      },
      "source": [
        "n=5\n",
        "for i in range(0,n+1):\n",
        "  for j in range(i,0,-1):\n",
        "    print (n+1-j, end=\" \")\n",
        "  print(\" \")"
      ],
      "execution_count": null,
      "outputs": [
        {
          "output_type": "stream",
          "text": [
            " \n",
            "5  \n",
            "4 5  \n",
            "3 4 5  \n",
            "2 3 4 5  \n",
            "1 2 3 4 5  \n"
          ],
          "name": "stdout"
        }
      ]
    },
    {
      "cell_type": "markdown",
      "metadata": {
        "id": "k_2wLUAXZmqZ"
      },
      "source": [
        "#4 Enter number 5"
      ]
    },
    {
      "cell_type": "code",
      "metadata": {
        "id": "v87DhrF1Z2CL",
        "outputId": "036a7bcb-65d9-46ef-faa9-488b9eaa2cf8",
        "colab": {
          "base_uri": "https://localhost:8080/",
          "height": 102
        }
      },
      "source": [
        "n=5\n",
        "for i in range(n,0,-1):\n",
        "  for j in range(1,i+1):\n",
        "    print (n, end=\" \")\n",
        "    n=n-1\n",
        "  n=5\n",
        "  print(\" \")"
      ],
      "execution_count": null,
      "outputs": [
        {
          "output_type": "stream",
          "text": [
            "5 4 3 2 1  \n",
            "5 4 3 2  \n",
            "5 4 3  \n",
            "5 4  \n",
            "5  \n"
          ],
          "name": "stdout"
        }
      ]
    },
    {
      "cell_type": "markdown",
      "metadata": {
        "id": "TG8_bh3deZ_s"
      },
      "source": [
        "#5 Enter number 4"
      ]
    },
    {
      "cell_type": "code",
      "metadata": {
        "id": "5NfLwkbbeeQp",
        "outputId": "2048bba4-6dc0-4c14-e550-b590b377efcc",
        "colab": {
          "base_uri": "https://localhost:8080/",
          "height": 153
        }
      },
      "source": [
        "n=4\n",
        "for i in range(0,n+1,1):\n",
        "  for j in range(i+1,n+1,1):\n",
        "    print (j, end=\" \")\n",
        "    i=i-1\n",
        "  n=4\n",
        "  print(\"\")\n",
        "n=4\n",
        "for i in range(1,n):\n",
        "  for j in range(i+1,0,-1):\n",
        "    print (n-j+1, end=\" \")\n",
        "    #n=n-1\n",
        "  print(\"\")\n"
      ],
      "execution_count": 24,
      "outputs": [
        {
          "output_type": "stream",
          "text": [
            "1 2 3 4 \n",
            "2 3 4 \n",
            "3 4 \n",
            "4 \n",
            "\n",
            "3 4 \n",
            "2 3 4 \n",
            "1 2 3 4 \n"
          ],
          "name": "stdout"
        }
      ]
    },
    {
      "cell_type": "markdown",
      "metadata": {
        "id": "Hry06c6ENOAr"
      },
      "source": [
        "#6 Find the length of a string without using len functions"
      ]
    },
    {
      "cell_type": "code",
      "metadata": {
        "id": "al24xztBNifz",
        "outputId": "06c7e4b0-a5fb-43ee-b3fb-3c42341cac54",
        "colab": {
          "base_uri": "https://localhost:8080/",
          "height": 51
        }
      },
      "source": [
        "str = input(\"Enter a string: \")\n",
        "num= 0\n",
        "for s in str:\n",
        "  num = num+1\n",
        "print(\"Length of the input string is:\", num)"
      ],
      "execution_count": 25,
      "outputs": [
        {
          "output_type": "stream",
          "text": [
            "Enter a string: Big Shott\n",
            "Length of the input string is: 9\n"
          ],
          "name": "stdout"
        }
      ]
    },
    {
      "cell_type": "markdown",
      "metadata": {
        "id": "_RXDk7cxNxGM"
      },
      "source": [
        "#7 Find the no of words and characters in a string"
      ]
    },
    {
      "cell_type": "code",
      "metadata": {
        "id": "y8tY25dQN06N",
        "outputId": "9b5f8e59-b27f-4275-8601-3e2afa3bb508",
        "colab": {
          "base_uri": "https://localhost:8080/",
          "height": 68
        }
      },
      "source": [
        "str=input(\"Enter string:\")\n",
        "char=0\n",
        "word=1\n",
        "for i in str:\n",
        "  char=char+1\n",
        "  if(i==' '):\n",
        "    word=word+1\n",
        "print(\"Number of words in the string: {0}\".format(word))\n",
        "#print(word)\n",
        "print(\"Number of characters in the string: {0}\".format(char))\n",
        "#print(char)"
      ],
      "execution_count": 27,
      "outputs": [
        {
          "output_type": "stream",
          "text": [
            "Enter string:Big Shott's craze\n",
            "Number of words in the string: 3\n",
            "Number of characters in the string: 17\n"
          ],
          "name": "stdout"
        }
      ]
    },
    {
      "cell_type": "markdown",
      "metadata": {
        "id": "mDLWvj3qOc88"
      },
      "source": [
        "#8 Find the no of occurrences of a particular word in a string(sentence)"
      ]
    },
    {
      "cell_type": "code",
      "metadata": {
        "id": "7SJ9LhbqOhAr",
        "outputId": "55b86814-7ff9-4907-f17c-24e03893645a",
        "colab": {
          "base_uri": "https://localhost:8080/",
          "height": 51
        }
      },
      "source": [
        "def word_count(str):\n",
        "  counts = dict()\n",
        "  words = str.split()\n",
        "  for word in words:\n",
        "    if word in counts:\n",
        "      counts[word] += 1\n",
        "    else:\n",
        "      counts[word] = 1\n",
        "  return counts\n",
        "#Driver code\n",
        "s=input(\"Enter the string : \")\n",
        "print(word_count(s))"
      ],
      "execution_count": 31,
      "outputs": [
        {
          "output_type": "stream",
          "text": [
            "Enter the string : Aiet AIET Aiet aIet\n",
            "{'Aiet': 2, 'AIET': 1, 'aIet': 1}\n"
          ],
          "name": "stdout"
        }
      ]
    }
  ]
}